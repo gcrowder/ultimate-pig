{
 "cells": [
  {
   "cell_type": "markdown",
   "metadata": {},
   "source": [
    "# Ultimate Pig Solitaire: A Data Driven Extravaganza"
   ]
  },
  {
   "cell_type": "markdown",
   "metadata": {},
   "source": [
    "## The Rules of Pig Solitaire\n",
    "In 7 turns, you are attempting to get the highest score possible.\n",
    "\n",
    "Each turn, you have two choices:\n",
    "\n",
    "Roll. Roll a six-sided die. If it comes up one, your turn is over and you add nothing to your score. If it comes up two through six, you add that number to your turn total and choose again.\n",
    "\n",
    "Hold. If you hold, you add the turn total to your score.\n",
    "\n",
    "Every turn, you will always roll first, else you will have no turn total to add to your score."
   ]
  },
  {
   "cell_type": "markdown",
   "metadata": {},
   "source": [
    "### Import the libraries necessary for fun software and interesting graphs."
   ]
  },
  {
   "cell_type": "code",
   "execution_count": 1,
   "metadata": {
    "collapsed": true
   },
   "outputs": [],
   "source": [
    "%matplotlib inline\n",
    "import random\n",
    "import statistics as st\n",
    "import numpy as np\n",
    "import matplotlib.pyplot as plt"
   ]
  },
  {
   "cell_type": "markdown",
   "metadata": {},
   "source": [
    "## Classes\n",
    "The Player class is the parent class in Ultimate Pig Solitaire. It has two attributes and one method.\n",
    "self.total keeps track of how points the player has throughout the game. self.last_roll retains the value of the last die roll, to aid subclasses in determining whether to roll again. is_roll_again() is effectively a stub that must be overloaded by future subclasses. In the parent class, it votes against rolling again every time."
   ]
  },
  {
   "cell_type": "code",
   "execution_count": 2,
   "metadata": {
    "collapsed": true
   },
   "outputs": [],
   "source": [
    "class Player:\n",
    "    def __init__(self):\n",
    "        self.total = 0\n",
    "        self.last_roll = 0\n",
    "\n",
    "    def is_roll_again(self, turn):\n",
    "        return False"
   ]
  },
  {
   "cell_type": "markdown",
   "metadata": {},
   "source": [
    "EagerPlayer is a subclass of Player. It implements the logic in is_roll again as a ratio of self.total to the number of turns the EagerPlayer has played. The data will show that this is the most successful player class."
   ]
  },
  {
   "cell_type": "code",
   "execution_count": 11,
   "metadata": {
    "collapsed": true
   },
   "outputs": [],
   "source": [
    "class EagerPlayer(Player):\n",
    "    def is_roll_again(self, turn):\n",
    "        if self.last_roll == 1:\n",
    "            return False\n",
    "        elif turn == 0 or self.total < 10:\n",
    "            return True\n",
    "        elif self.total / turn < 15:\n",
    "            return True\n",
    "        else:\n",
    "            return False"
   ]
  },
  {
   "cell_type": "markdown",
   "metadata": {},
   "source": [
    "ArbitraryPlayer is precisely that. It choses to roll or hold at random."
   ]
  },
  {
   "cell_type": "code",
   "execution_count": 4,
   "metadata": {
    "collapsed": true
   },
   "outputs": [],
   "source": [
    "class ArbitraryPlayer(Player):\n",
    "    def is_roll_again(self, turn):\n",
    "        if self.last_roll == 1:\n",
    "            return False\n",
    "        else:\n",
    "            return random.choice([True, False])"
   ]
  },
  {
   "cell_type": "markdown",
   "metadata": {},
   "source": [
    "OverlyCautiousPlayer is an attempt to reverse the logic found in EagerPlayer. However, this class does not seem to be cautious enough. This is the second best player class."
   ]
  },
  {
   "cell_type": "code",
   "execution_count": 5,
   "metadata": {
    "collapsed": true
   },
   "outputs": [],
   "source": [
    "class OverlyCautiousPlayer(Player):\n",
    "    def is_roll_again(self, turn):\n",
    "        if self.last_roll == 1:\n",
    "            return False\n",
    "        elif turn == 0 or self.total < 4:\n",
    "            return True\n",
    "        elif self.total / turn > 4:\n",
    "            return False\n",
    "        else:\n",
    "            return True"
   ]
  },
  {
   "cell_type": "markdown",
   "metadata": {},
   "source": [
    "The following three functions implement the game. A player has 7 turns. A player will roll and then choose whether to roll again in the turn. is_roll_again does the roll logic as well as check for 1s thrown on the previous roll."
   ]
  },
  {
   "cell_type": "code",
   "execution_count": 7,
   "metadata": {
    "collapsed": true
   },
   "outputs": [],
   "source": [
    "def roll_die():\n",
    "    return random.randint(1, 6)\n",
    "\n",
    "\n",
    "def play(player):\n",
    "    total = player.total\n",
    "    roll = roll_die()\n",
    "    player.last_roll = roll\n",
    "    if roll == 1:\n",
    "        return total\n",
    "    else:\n",
    "        total += roll\n",
    "        return total\n",
    "\n",
    "\n",
    "def game_loop(player):\n",
    "    result = 0\n",
    "    for turn in range(7):\n",
    "        result = play(player)\n",
    "        player.total = result\n",
    "        while player.is_roll_again(turn):\n",
    "            result = play(player)\n",
    "            player.total = result\n",
    "    return player.total"
   ]
  },
  {
   "cell_type": "markdown",
   "metadata": {},
   "source": [
    "The final code block runs the game with each player class for 1000 trials and provides statistics and graphs detailing the results of the trials."
   ]
  },
  {
   "cell_type": "code",
   "execution_count": 26,
   "metadata": {
    "collapsed": false
   },
   "outputs": [
    {
     "name": "stdout",
     "output_type": "stream",
     "text": [
      "Player Mean:  23.24\n",
      "Player Median:  23.0\n",
      "Player StDev:  5.308161317874258\n"
     ]
    },
    {
     "data": {
      "image/png": "[encoded data removed]",
      "text/plain": [
       "<matplotlib.figure.Figure at 0x10fa9bb70>"
      ]
     },
     "metadata": {},
     "output_type": "display_data"
    },
    {
     "name": "stdout",
     "output_type": "stream",
     "text": [
      "Eager Player Mean:  79.471\n",
      "Eager Player Median:  83.0\n",
      "Eager Player StDev:  15.688189133175259\n"
     ]
    },
    {
     "data": {
      "image/png": "[encoded data removed]",
      "text/plain": [
       "<matplotlib.figure.Figure at 0x10ff99978>"
      ]
     },
     "metadata": {},
     "output_type": "display_data"
    },
    {
     "name": "stdout",
     "output_type": "stream",
     "text": [
      "Arbitrary Player Mean:  40.025\n",
      "Arbitrary Player Median:  39.0\n",
      "Arbitrary Player StDev:  13.419853481594627\n"
     ]
    },
    {
     "data": {
      "image/png": "[encoded data removed]",
      "text/plain": [
       "<matplotlib.figure.Figure at 0x10fe98438>"
      ]
     },
     "metadata": {},
     "output_type": "display_data"
    },
    {
     "name": "stdout",
     "output_type": "stream",
     "text": [
      "Overly Cautious Player Mean:  41.365\n",
      "Overly Cautious Player Median:  33.0\n",
      "Overly Cautious Player StDev:  20.52015720826358\n"
     ]
    },
    {
     "data": {
      "image/png": "[encoded data removed]",
      "text/plain": [
       "<matplotlib.figure.Figure at 0x10ff0e9b0>"
      ]
     },
     "metadata": {},
     "output_type": "display_data"
    },
    {
     "data": {
      "image/png": "[encoded data removed]",
      "text/plain": [
       "<matplotlib.figure.Figure at 0x10e33eba8>"
      ]
     },
     "metadata": {},
     "output_type": "display_data"
    },
    {
     "data": {
      "image/png": "[encoded data removed]",
      "text/plain": [
       "<matplotlib.figure.Figure at 0x10f838438>"
      ]
     },
     "metadata": {},
     "output_type": "display_data"
    }
   ],
   "source": [
    "trials = 1000\n",
    "player_class_trials = []\n",
    "for _ in range(trials):\n",
    "    bob = Player()\n",
    "    player_class_trials.append(game_loop(bob))\n",
    "\n",
    "player_mean = st.mean(player_class_trials)\n",
    "player_median = st.median(player_class_trials)\n",
    "player_stdev = st.stdev(player_class_trials)\n",
    "print(\"Player Mean: \", player_mean)\n",
    "print(\"Player Median: \", player_median)\n",
    "print(\"Player StDev: \", player_stdev)\n",
    "\n",
    "\n",
    "plt.figure(1)\n",
    "plt.boxplot(player_class_trials)\n",
    "plt.ylabel('Game Score')\n",
    "plt.show()\n",
    "\n",
    "\n",
    "eager_player_trials = []\n",
    "for _ in range(trials):\n",
    "    sally = EagerPlayer()\n",
    "    eager_player_trials.append(game_loop(sally))\n",
    "\n",
    "eager_mean = st.mean(eager_player_trials)\n",
    "eager_median = st.median(eager_player_trials)\n",
    "eager_stdev = st.stdev(eager_player_trials)\n",
    "print(\"Eager Player Mean: \", eager_mean)\n",
    "print(\"Eager Player Median: \", eager_median)\n",
    "print(\"Eager Player StDev: \", eager_stdev)\n",
    "\n",
    "\n",
    "plt.figure(2)\n",
    "plt.boxplot(eager_player_trials)\n",
    "plt.ylabel('Game Score')\n",
    "plt.show()\n",
    "\n",
    "\n",
    "arbitrary_player_trials = []\n",
    "for _ in range(trials):\n",
    "    june = ArbitraryPlayer()\n",
    "    arbitrary_player_trials.append(game_loop(june))\n",
    "\n",
    "arbitrary_mean = st.mean(arbitrary_player_trials)\n",
    "arbitrary_median = st.median(arbitrary_player_trials)\n",
    "arbitrary_stdev = st.stdev(arbitrary_player_trials)   \n",
    "print(\"Arbitrary Player Mean: \", arbitrary_mean)\n",
    "print(\"Arbitrary Player Median: \", arbitrary_median)\n",
    "print(\"Arbitrary Player StDev: \", arbitrary_stdev)\n",
    "\n",
    "\n",
    "plt.figure(3)\n",
    "plt.boxplot(arbitrary_player_trials)\n",
    "plt.ylabel('Game Score')\n",
    "plt.show()\n",
    "\n",
    "\n",
    "overly_cautious_trials = []\n",
    "for _ in range(trials):\n",
    "    melvin = OverlyCautiousPlayer()\n",
    "    overly_cautious_trials.append(game_loop(melvin))\n",
    "\n",
    "overly_cautious_mean = st.mean(overly_cautious_trials)\n",
    "overly_cautious_median = st.median(overly_cautious_trials)\n",
    "overly_cautious_stdev = st.stdev(overly_cautious_trials)\n",
    "print(\"Overly Cautious Player Mean: \", overly_cautious_mean)\n",
    "print(\"Overly Cautious Player Median: \", overly_cautious_median)\n",
    "print(\"Overly Cautious Player StDev: \", overly_cautious_stdev)\n",
    "\n",
    "plt.figure(4)\n",
    "plt.boxplot(overly_cautious_trials)\n",
    "plt.ylabel('Game Score')\n",
    "plt.show()\n",
    "\n",
    "plt.figure(5)\n",
    "plt.pie([player_mean, eager_mean, arbitrary_mean, overly_cautious_mean], labels=['Player Mean', 'Eager Mean', 'Arbitrary Mean', 'Overly Cautious Mean'], colors=('b', 'r', 'c', 'm'))\n",
    "plt.show()\n",
    "\n",
    "plt.figure(6)\n",
    "plt.pie([player_stdev, eager_stdev, arbitrary_stdev, overly_cautious_stdev], labels=['Player Standard Deviation', 'Eager Standard Deviation', 'Arbitrary Standard Deviation', 'Overly Cautious Standard Deviation'], colors=('b', 'r', 'c', 'g'))\n",
    "plt.show()"
   ]
  },
  {
   "cell_type": "markdown",
   "metadata": {},
   "source": [
    "## Results\n",
    "What can we interpret from these outcomes?\n",
    "\n",
    "The EagerPlayer is clearly the best player class on *average* at mean 79.50. However, the EagerPlayer may not be the best choice for someone risk averse as it has the second highest standard deviation (15.69) among the four classes.\n",
    "\n",
    "It does not pay to be too risk averse, however, as the worst performing class (mean 23.24) in the bunch (the parent Player) rated the smallest standard deviation at 5.31"
   ]
  },
  {
   "cell_type": "code",
   "execution_count": null,
   "metadata": {
    "collapsed": true
   },
   "outputs": [],
   "source": []
  }
 ],
 "metadata": {
  "kernelspec": {
   "display_name": "Python 3",
   "language": "python",
   "name": "python3"
  },
  "language_info": {
   "codemirror_mode": {
    "name": "ipython",
    "version": 3
   },
   "file_extension": ".py",
   "mimetype": "text/x-python",
   "name": "python",
   "nbconvert_exporter": "python",
   "pygments_lexer": "ipython3",
   "version": "3.5.1"
  }
 },
 "nbformat": 4,
 "nbformat_minor": 0
}
